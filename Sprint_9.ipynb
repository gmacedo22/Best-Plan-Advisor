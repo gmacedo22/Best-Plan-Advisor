{
 "cells": [
  {
   "cell_type": "markdown",
   "metadata": {},
   "source": [
    "# Proyecto 6"
   ]
  },
  {
   "cell_type": "markdown",
   "metadata": {},
   "source": [
    "## Importacion de librerias"
   ]
  },
  {
   "cell_type": "code",
   "execution_count": 2,
   "metadata": {},
   "outputs": [],
   "source": [
    "import pandas as pd\n",
    "from sklearn.tree import DecisionTreeClassifier\n",
    "from sklearn.ensemble import RandomForestClassifier\n",
    "from sklearn.linear_model import LogisticRegression\n",
    "from sklearn.model_selection import train_test_split\n",
    "from sklearn.metrics import mean_squared_error\n",
    "from sklearn.metrics import accuracy_score "
   ]
  },
  {
   "cell_type": "markdown",
   "metadata": {},
   "source": [
    "El proyecto se trata de un problema de clasificación."
   ]
  },
  {
   "cell_type": "markdown",
   "metadata": {},
   "source": [
    "## Lectura de CSV"
   ]
  },
  {
   "cell_type": "code",
   "execution_count": 3,
   "metadata": {},
   "outputs": [],
   "source": [
    "user_behavior = pd.read_csv('/datasets/users_behavior.csv')"
   ]
  },
  {
   "cell_type": "code",
   "execution_count": 4,
   "metadata": {},
   "outputs": [
    {
     "name": "stdout",
     "output_type": "stream",
     "text": [
      "<class 'pandas.core.frame.DataFrame'>\n",
      "RangeIndex: 3214 entries, 0 to 3213\n",
      "Data columns (total 5 columns):\n",
      " #   Column    Non-Null Count  Dtype  \n",
      "---  ------    --------------  -----  \n",
      " 0   calls     3214 non-null   float64\n",
      " 1   minutes   3214 non-null   float64\n",
      " 2   messages  3214 non-null   float64\n",
      " 3   mb_used   3214 non-null   float64\n",
      " 4   is_ultra  3214 non-null   int64  \n",
      "dtypes: float64(4), int64(1)\n",
      "memory usage: 125.7 KB\n"
     ]
    }
   ],
   "source": [
    "user_behavior.info()"
   ]
  },
  {
   "cell_type": "code",
   "execution_count": 5,
   "metadata": {},
   "outputs": [
    {
     "data": {
      "text/html": [
       "<div>\n",
       "<style scoped>\n",
       "    .dataframe tbody tr th:only-of-type {\n",
       "        vertical-align: middle;\n",
       "    }\n",
       "\n",
       "    .dataframe tbody tr th {\n",
       "        vertical-align: top;\n",
       "    }\n",
       "\n",
       "    .dataframe thead th {\n",
       "        text-align: right;\n",
       "    }\n",
       "</style>\n",
       "<table border=\"1\" class=\"dataframe\">\n",
       "  <thead>\n",
       "    <tr style=\"text-align: right;\">\n",
       "      <th></th>\n",
       "      <th>calls</th>\n",
       "      <th>minutes</th>\n",
       "      <th>messages</th>\n",
       "      <th>mb_used</th>\n",
       "      <th>is_ultra</th>\n",
       "    </tr>\n",
       "  </thead>\n",
       "  <tbody>\n",
       "    <tr>\n",
       "      <th>count</th>\n",
       "      <td>3214.000000</td>\n",
       "      <td>3214.000000</td>\n",
       "      <td>3214.000000</td>\n",
       "      <td>3214.000000</td>\n",
       "      <td>3214.000000</td>\n",
       "    </tr>\n",
       "    <tr>\n",
       "      <th>mean</th>\n",
       "      <td>63.038892</td>\n",
       "      <td>438.208787</td>\n",
       "      <td>38.281269</td>\n",
       "      <td>17207.673836</td>\n",
       "      <td>0.306472</td>\n",
       "    </tr>\n",
       "    <tr>\n",
       "      <th>std</th>\n",
       "      <td>33.236368</td>\n",
       "      <td>234.569872</td>\n",
       "      <td>36.148326</td>\n",
       "      <td>7570.968246</td>\n",
       "      <td>0.461100</td>\n",
       "    </tr>\n",
       "    <tr>\n",
       "      <th>min</th>\n",
       "      <td>0.000000</td>\n",
       "      <td>0.000000</td>\n",
       "      <td>0.000000</td>\n",
       "      <td>0.000000</td>\n",
       "      <td>0.000000</td>\n",
       "    </tr>\n",
       "    <tr>\n",
       "      <th>25%</th>\n",
       "      <td>40.000000</td>\n",
       "      <td>274.575000</td>\n",
       "      <td>9.000000</td>\n",
       "      <td>12491.902500</td>\n",
       "      <td>0.000000</td>\n",
       "    </tr>\n",
       "    <tr>\n",
       "      <th>50%</th>\n",
       "      <td>62.000000</td>\n",
       "      <td>430.600000</td>\n",
       "      <td>30.000000</td>\n",
       "      <td>16943.235000</td>\n",
       "      <td>0.000000</td>\n",
       "    </tr>\n",
       "    <tr>\n",
       "      <th>75%</th>\n",
       "      <td>82.000000</td>\n",
       "      <td>571.927500</td>\n",
       "      <td>57.000000</td>\n",
       "      <td>21424.700000</td>\n",
       "      <td>1.000000</td>\n",
       "    </tr>\n",
       "    <tr>\n",
       "      <th>max</th>\n",
       "      <td>244.000000</td>\n",
       "      <td>1632.060000</td>\n",
       "      <td>224.000000</td>\n",
       "      <td>49745.730000</td>\n",
       "      <td>1.000000</td>\n",
       "    </tr>\n",
       "  </tbody>\n",
       "</table>\n",
       "</div>"
      ],
      "text/plain": [
       "             calls      minutes     messages       mb_used     is_ultra\n",
       "count  3214.000000  3214.000000  3214.000000   3214.000000  3214.000000\n",
       "mean     63.038892   438.208787    38.281269  17207.673836     0.306472\n",
       "std      33.236368   234.569872    36.148326   7570.968246     0.461100\n",
       "min       0.000000     0.000000     0.000000      0.000000     0.000000\n",
       "25%      40.000000   274.575000     9.000000  12491.902500     0.000000\n",
       "50%      62.000000   430.600000    30.000000  16943.235000     0.000000\n",
       "75%      82.000000   571.927500    57.000000  21424.700000     1.000000\n",
       "max     244.000000  1632.060000   224.000000  49745.730000     1.000000"
      ]
     },
     "execution_count": 5,
     "metadata": {},
     "output_type": "execute_result"
    }
   ],
   "source": [
    "user_behavior.describe()"
   ]
  },
  {
   "cell_type": "code",
   "execution_count": 6,
   "metadata": {
    "scrolled": false
   },
   "outputs": [
    {
     "data": {
      "text/html": [
       "<div>\n",
       "<style scoped>\n",
       "    .dataframe tbody tr th:only-of-type {\n",
       "        vertical-align: middle;\n",
       "    }\n",
       "\n",
       "    .dataframe tbody tr th {\n",
       "        vertical-align: top;\n",
       "    }\n",
       "\n",
       "    .dataframe thead th {\n",
       "        text-align: right;\n",
       "    }\n",
       "</style>\n",
       "<table border=\"1\" class=\"dataframe\">\n",
       "  <thead>\n",
       "    <tr style=\"text-align: right;\">\n",
       "      <th></th>\n",
       "      <th>calls</th>\n",
       "      <th>minutes</th>\n",
       "      <th>messages</th>\n",
       "      <th>mb_used</th>\n",
       "      <th>is_ultra</th>\n",
       "    </tr>\n",
       "  </thead>\n",
       "  <tbody>\n",
       "    <tr>\n",
       "      <th>0</th>\n",
       "      <td>40.0</td>\n",
       "      <td>311.90</td>\n",
       "      <td>83.0</td>\n",
       "      <td>19915.42</td>\n",
       "      <td>0</td>\n",
       "    </tr>\n",
       "    <tr>\n",
       "      <th>1</th>\n",
       "      <td>85.0</td>\n",
       "      <td>516.75</td>\n",
       "      <td>56.0</td>\n",
       "      <td>22696.96</td>\n",
       "      <td>0</td>\n",
       "    </tr>\n",
       "    <tr>\n",
       "      <th>2</th>\n",
       "      <td>77.0</td>\n",
       "      <td>467.66</td>\n",
       "      <td>86.0</td>\n",
       "      <td>21060.45</td>\n",
       "      <td>0</td>\n",
       "    </tr>\n",
       "    <tr>\n",
       "      <th>3</th>\n",
       "      <td>106.0</td>\n",
       "      <td>745.53</td>\n",
       "      <td>81.0</td>\n",
       "      <td>8437.39</td>\n",
       "      <td>1</td>\n",
       "    </tr>\n",
       "    <tr>\n",
       "      <th>4</th>\n",
       "      <td>66.0</td>\n",
       "      <td>418.74</td>\n",
       "      <td>1.0</td>\n",
       "      <td>14502.75</td>\n",
       "      <td>0</td>\n",
       "    </tr>\n",
       "    <tr>\n",
       "      <th>...</th>\n",
       "      <td>...</td>\n",
       "      <td>...</td>\n",
       "      <td>...</td>\n",
       "      <td>...</td>\n",
       "      <td>...</td>\n",
       "    </tr>\n",
       "    <tr>\n",
       "      <th>3209</th>\n",
       "      <td>122.0</td>\n",
       "      <td>910.98</td>\n",
       "      <td>20.0</td>\n",
       "      <td>35124.90</td>\n",
       "      <td>1</td>\n",
       "    </tr>\n",
       "    <tr>\n",
       "      <th>3210</th>\n",
       "      <td>25.0</td>\n",
       "      <td>190.36</td>\n",
       "      <td>0.0</td>\n",
       "      <td>3275.61</td>\n",
       "      <td>0</td>\n",
       "    </tr>\n",
       "    <tr>\n",
       "      <th>3211</th>\n",
       "      <td>97.0</td>\n",
       "      <td>634.44</td>\n",
       "      <td>70.0</td>\n",
       "      <td>13974.06</td>\n",
       "      <td>0</td>\n",
       "    </tr>\n",
       "    <tr>\n",
       "      <th>3212</th>\n",
       "      <td>64.0</td>\n",
       "      <td>462.32</td>\n",
       "      <td>90.0</td>\n",
       "      <td>31239.78</td>\n",
       "      <td>0</td>\n",
       "    </tr>\n",
       "    <tr>\n",
       "      <th>3213</th>\n",
       "      <td>80.0</td>\n",
       "      <td>566.09</td>\n",
       "      <td>6.0</td>\n",
       "      <td>29480.52</td>\n",
       "      <td>1</td>\n",
       "    </tr>\n",
       "  </tbody>\n",
       "</table>\n",
       "<p>3214 rows × 5 columns</p>\n",
       "</div>"
      ],
      "text/plain": [
       "      calls  minutes  messages   mb_used  is_ultra\n",
       "0      40.0   311.90      83.0  19915.42         0\n",
       "1      85.0   516.75      56.0  22696.96         0\n",
       "2      77.0   467.66      86.0  21060.45         0\n",
       "3     106.0   745.53      81.0   8437.39         1\n",
       "4      66.0   418.74       1.0  14502.75         0\n",
       "...     ...      ...       ...       ...       ...\n",
       "3209  122.0   910.98      20.0  35124.90         1\n",
       "3210   25.0   190.36       0.0   3275.61         0\n",
       "3211   97.0   634.44      70.0  13974.06         0\n",
       "3212   64.0   462.32      90.0  31239.78         0\n",
       "3213   80.0   566.09       6.0  29480.52         1\n",
       "\n",
       "[3214 rows x 5 columns]"
      ]
     },
     "execution_count": 6,
     "metadata": {},
     "output_type": "execute_result"
    }
   ],
   "source": [
    "user_behavior"
   ]
  },
  {
   "cell_type": "markdown",
   "metadata": {},
   "source": [
    "Comprobacion de si hay duplicados o valores nulos"
   ]
  },
  {
   "cell_type": "code",
   "execution_count": 7,
   "metadata": {
    "scrolled": false
   },
   "outputs": [
    {
     "data": {
      "text/html": [
       "<div>\n",
       "<style scoped>\n",
       "    .dataframe tbody tr th:only-of-type {\n",
       "        vertical-align: middle;\n",
       "    }\n",
       "\n",
       "    .dataframe tbody tr th {\n",
       "        vertical-align: top;\n",
       "    }\n",
       "\n",
       "    .dataframe thead th {\n",
       "        text-align: right;\n",
       "    }\n",
       "</style>\n",
       "<table border=\"1\" class=\"dataframe\">\n",
       "  <thead>\n",
       "    <tr style=\"text-align: right;\">\n",
       "      <th></th>\n",
       "      <th>calls</th>\n",
       "      <th>minutes</th>\n",
       "      <th>messages</th>\n",
       "      <th>mb_used</th>\n",
       "      <th>is_ultra</th>\n",
       "    </tr>\n",
       "  </thead>\n",
       "  <tbody>\n",
       "  </tbody>\n",
       "</table>\n",
       "</div>"
      ],
      "text/plain": [
       "Empty DataFrame\n",
       "Columns: [calls, minutes, messages, mb_used, is_ultra]\n",
       "Index: []"
      ]
     },
     "execution_count": 7,
     "metadata": {},
     "output_type": "execute_result"
    }
   ],
   "source": [
    "user_behavior[user_behavior.duplicated()]"
   ]
  },
  {
   "cell_type": "code",
   "execution_count": 8,
   "metadata": {},
   "outputs": [
    {
     "data": {
      "text/plain": [
       "calls       0\n",
       "minutes     0\n",
       "messages    0\n",
       "mb_used     0\n",
       "is_ultra    0\n",
       "dtype: int64"
      ]
     },
     "execution_count": 8,
     "metadata": {},
     "output_type": "execute_result"
    }
   ],
   "source": [
    "user_behavior.isna().sum()"
   ]
  },
  {
   "cell_type": "markdown",
   "metadata": {},
   "source": [
    "## Separación de la información"
   ]
  },
  {
   "cell_type": "markdown",
   "metadata": {},
   "source": [
    "Vamos a separar la base de datos de entrenamiento y de validación."
   ]
  },
  {
   "cell_type": "code",
   "execution_count": 9,
   "metadata": {},
   "outputs": [],
   "source": [
    "df_train, df_valid = train_test_split(user_behavior, test_size=0.25, random_state=12345)"
   ]
  },
  {
   "cell_type": "code",
   "execution_count": 10,
   "metadata": {},
   "outputs": [],
   "source": [
    "features_train = df_train.drop(['is_ultra'], axis=1)\n",
    "target_train = df_train['is_ultra']\n",
    "features_valid = df_valid.drop(['is_ultra'], axis=1)\n",
    "target_valid = df_valid['is_ultra']"
   ]
  },
  {
   "cell_type": "markdown",
   "metadata": {},
   "source": [
    "Se usa toda la información de Features serian todos los apartados exceptuando si es \"Ultra\" ya que estamos buscando cuando son usuarios de ultra o no."
   ]
  },
  {
   "cell_type": "markdown",
   "metadata": {},
   "source": [
    "## Vamos a comenzar con los diferentes modelos"
   ]
  },
  {
   "cell_type": "markdown",
   "metadata": {},
   "source": [
    "### Arbol de decisión"
   ]
  },
  {
   "cell_type": "code",
   "execution_count": 11,
   "metadata": {},
   "outputs": [],
   "source": [
    "best=0\n",
    "for depth in range(1,50):\n",
    "    model_tree = DecisionTreeClassifier(random_state=12345, max_depth=depth)\n",
    "    model_tree.fit(features_train,target_train)\n",
    "    score = model_tree.score(features_valid , target_valid)\n",
    "    if(best<score):\n",
    "        best=score\n",
    "        best_depth =depth\n"
   ]
  },
  {
   "cell_type": "code",
   "execution_count": 12,
   "metadata": {},
   "outputs": [
    {
     "name": "stdout",
     "output_type": "stream",
     "text": [
      "BEST DEPTH 49 BEST SCORE 0.7898009950248757\n",
      "Score del train 1.0\n",
      "Score del Valid 0.7213930348258707\n"
     ]
    }
   ],
   "source": [
    "print(\"BEST DEPTH\",depth,\"BEST SCORE\",best)\n",
    "print(\"Score del train\",model_tree.score(features_train,target_train))\n",
    "print('Score del Valid',model_tree.score(features_valid,target_valid))"
   ]
  },
  {
   "cell_type": "markdown",
   "metadata": {},
   "source": [
    "### Bosque aleatorio"
   ]
  },
  {
   "cell_type": "code",
   "execution_count": 13,
   "metadata": {},
   "outputs": [],
   "source": [
    "best=0\n",
    "best_est=0\n",
    "for est in range(1,50):\n",
    "    model_forest = RandomForestClassifier(random_state=12345, n_estimators=est)\n",
    "    model_forest.fit(features_train,target_train)\n",
    "    score = model_forest.score(features_valid,target_valid)\n",
    "    if(best<score):\n",
    "        best_est=est\n",
    "        best=score"
   ]
  },
  {
   "cell_type": "code",
   "execution_count": 14,
   "metadata": {},
   "outputs": [
    {
     "name": "stdout",
     "output_type": "stream",
     "text": [
      "BEST SCORE 0.7947761194029851 BEST EST 46\n",
      "Score del Train 0.9991701244813278\n",
      "Score del Valid 0.7910447761194029\n"
     ]
    }
   ],
   "source": [
    "print('BEST SCORE',best,'BEST EST',best_est)\n",
    "print('Score del Train',model_forest.score(features_train,target_train))\n",
    "print('Score del Valid',model_forest.score(features_valid,target_valid))"
   ]
  },
  {
   "cell_type": "markdown",
   "metadata": {},
   "source": [
    "### Regresión logística"
   ]
  },
  {
   "cell_type": "code",
   "execution_count": 15,
   "metadata": {},
   "outputs": [
    {
     "name": "stdout",
     "output_type": "stream",
     "text": [
      "Score del Train 0.74149377593361\n",
      "Score del Valid 0.753731343283582\n"
     ]
    }
   ],
   "source": [
    "model_logistic =LogisticRegression(random_state=12345, solver='liblinear')\n",
    "model_logistic.fit(features_train,target_train)\n",
    "print('Score del Train',model_logistic.score(features_train,target_train))\n",
    "print('Score del Valid',model_logistic.score(features_valid,target_valid))"
   ]
  },
  {
   "cell_type": "markdown",
   "metadata": {},
   "source": [
    "## Conclusión"
   ]
  },
  {
   "cell_type": "markdown",
   "metadata": {},
   "source": [
    "Como podemos ver el \"bosque aleatorio\" mostro mejores resultados el unico problema que podria tener seria la capacidad de procesamiento pero en este ejercicio no causaria ningun problema.\n",
    "\n",
    "Otra que seria de gran ayuda para mejorar la velocidad del procesamiento seria el de regresión logistica.\n"
   ]
  },
  {
   "cell_type": "markdown",
   "metadata": {},
   "source": [
    "Algo a mencionar es que los usuarios no siempre eligen su plan por que es el que mas les beneficie por eso se pueden encontrar discrepacia en los resultados."
   ]
  }
 ],
 "metadata": {
  "ExecuteTimeLog": [
   {
    "duration": 288,
    "start_time": "2024-11-05T18:13:43.995Z"
   },
   {
    "duration": 531,
    "start_time": "2024-11-05T18:14:23.366Z"
   },
   {
    "duration": 11,
    "start_time": "2024-11-05T18:14:48.165Z"
   },
   {
    "duration": 9,
    "start_time": "2024-11-05T18:14:56.520Z"
   },
   {
    "duration": 27,
    "start_time": "2024-11-05T18:15:12.383Z"
   },
   {
    "duration": 11,
    "start_time": "2024-11-05T18:15:20.562Z"
   },
   {
    "duration": 7,
    "start_time": "2024-11-05T18:18:03.011Z"
   },
   {
    "duration": 566,
    "start_time": "2024-11-05T18:18:07.227Z"
   },
   {
    "duration": 7,
    "start_time": "2024-11-05T18:19:54.173Z"
   },
   {
    "duration": 8,
    "start_time": "2024-11-05T18:20:04.729Z"
   },
   {
    "duration": 53,
    "start_time": "2024-11-05T18:21:04.000Z"
   },
   {
    "duration": 5,
    "start_time": "2024-11-05T18:21:06.883Z"
   },
   {
    "duration": 4,
    "start_time": "2024-11-05T18:22:54.432Z"
   },
   {
    "duration": 4,
    "start_time": "2024-11-05T18:26:22.980Z"
   },
   {
    "duration": 4,
    "start_time": "2024-11-05T18:26:26.190Z"
   },
   {
    "duration": 771,
    "start_time": "2024-11-05T18:26:34.209Z"
   },
   {
    "duration": 9,
    "start_time": "2024-11-05T18:26:34.982Z"
   },
   {
    "duration": 11,
    "start_time": "2024-11-05T18:26:34.992Z"
   },
   {
    "duration": 28,
    "start_time": "2024-11-05T18:26:35.005Z"
   },
   {
    "duration": 11,
    "start_time": "2024-11-05T18:26:35.034Z"
   },
   {
    "duration": 7,
    "start_time": "2024-11-05T18:26:35.047Z"
   },
   {
    "duration": 5,
    "start_time": "2024-11-05T18:26:35.055Z"
   },
   {
    "duration": 4,
    "start_time": "2024-11-05T18:26:35.062Z"
   },
   {
    "duration": 4,
    "start_time": "2024-11-05T18:26:35.068Z"
   },
   {
    "duration": 3,
    "start_time": "2024-11-05T18:31:27.327Z"
   },
   {
    "duration": 231,
    "start_time": "2024-11-05T18:33:49.018Z"
   },
   {
    "duration": 26,
    "start_time": "2024-11-05T18:34:03.651Z"
   },
   {
    "duration": 3,
    "start_time": "2024-11-05T18:34:33.961Z"
   },
   {
    "duration": 19,
    "start_time": "2024-11-05T18:34:37.930Z"
   },
   {
    "duration": 11,
    "start_time": "2024-11-05T18:34:44.133Z"
   },
   {
    "duration": 15,
    "start_time": "2024-11-05T18:34:45.273Z"
   },
   {
    "duration": 2,
    "start_time": "2024-11-05T18:34:49.683Z"
   },
   {
    "duration": 13,
    "start_time": "2024-11-05T18:34:50.209Z"
   },
   {
    "duration": 3,
    "start_time": "2024-11-05T18:34:53.266Z"
   },
   {
    "duration": 11,
    "start_time": "2024-11-05T18:34:54.102Z"
   },
   {
    "duration": 3,
    "start_time": "2024-11-05T18:34:59.727Z"
   },
   {
    "duration": 16,
    "start_time": "2024-11-05T18:35:00.469Z"
   },
   {
    "duration": 3,
    "start_time": "2024-11-05T18:35:04.463Z"
   },
   {
    "duration": 13,
    "start_time": "2024-11-05T18:35:04.873Z"
   },
   {
    "duration": 3,
    "start_time": "2024-11-05T18:35:58.802Z"
   },
   {
    "duration": 14,
    "start_time": "2024-11-05T18:38:12.744Z"
   },
   {
    "duration": 46,
    "start_time": "2024-11-05T18:38:52.302Z"
   },
   {
    "duration": 46,
    "start_time": "2024-11-05T18:38:59.425Z"
   },
   {
    "duration": 2,
    "start_time": "2024-11-05T18:39:05.156Z"
   },
   {
    "duration": 194,
    "start_time": "2024-11-05T18:39:05.487Z"
   },
   {
    "duration": 11,
    "start_time": "2024-11-05T18:41:01.200Z"
   },
   {
    "duration": 14,
    "start_time": "2024-11-05T18:44:56.141Z"
   },
   {
    "duration": 211,
    "start_time": "2024-11-05T18:45:14.532Z"
   },
   {
    "duration": 212,
    "start_time": "2024-11-05T18:45:27.123Z"
   },
   {
    "duration": 17,
    "start_time": "2024-11-05T18:45:54.390Z"
   },
   {
    "duration": 4,
    "start_time": "2024-11-05T19:01:27.045Z"
   },
   {
    "duration": 133,
    "start_time": "2024-11-05T19:01:34.054Z"
   },
   {
    "duration": 34,
    "start_time": "2024-11-05T19:02:07.104Z"
   },
   {
    "duration": 33,
    "start_time": "2024-11-05T19:02:30.191Z"
   },
   {
    "duration": 821,
    "start_time": "2024-11-05T19:03:13.169Z"
   },
   {
    "duration": 9,
    "start_time": "2024-11-05T19:03:13.992Z"
   },
   {
    "duration": 10,
    "start_time": "2024-11-05T19:03:14.003Z"
   },
   {
    "duration": 34,
    "start_time": "2024-11-05T19:03:14.015Z"
   },
   {
    "duration": 10,
    "start_time": "2024-11-05T19:03:14.052Z"
   },
   {
    "duration": 7,
    "start_time": "2024-11-05T19:03:14.063Z"
   },
   {
    "duration": 6,
    "start_time": "2024-11-05T19:03:14.071Z"
   },
   {
    "duration": 5,
    "start_time": "2024-11-05T19:03:14.078Z"
   },
   {
    "duration": 7,
    "start_time": "2024-11-05T19:03:14.085Z"
   },
   {
    "duration": 368,
    "start_time": "2024-11-05T19:03:14.094Z"
   },
   {
    "duration": 0,
    "start_time": "2024-11-05T19:03:14.464Z"
   },
   {
    "duration": 0,
    "start_time": "2024-11-05T19:03:14.466Z"
   },
   {
    "duration": 0,
    "start_time": "2024-11-05T19:03:14.467Z"
   },
   {
    "duration": 0,
    "start_time": "2024-11-05T19:03:14.469Z"
   },
   {
    "duration": 527,
    "start_time": "2024-11-05T19:03:49.567Z"
   },
   {
    "duration": 8,
    "start_time": "2024-11-05T19:04:21.422Z"
   },
   {
    "duration": 7,
    "start_time": "2024-11-05T19:04:55.016Z"
   },
   {
    "duration": 9356,
    "start_time": "2024-11-05T19:06:59.917Z"
   },
   {
    "duration": 28,
    "start_time": "2024-11-05T19:07:11.055Z"
   },
   {
    "duration": 28,
    "start_time": "2024-11-05T19:07:40.165Z"
   },
   {
    "duration": 4832,
    "start_time": "2024-11-05T19:07:51.493Z"
   },
   {
    "duration": 26,
    "start_time": "2024-11-05T19:07:58.045Z"
   },
   {
    "duration": 199,
    "start_time": "2024-11-06T07:20:36.487Z"
   },
   {
    "duration": 873,
    "start_time": "2024-11-06T07:20:43.341Z"
   },
   {
    "duration": 11,
    "start_time": "2024-11-06T07:20:45.279Z"
   },
   {
    "duration": 9,
    "start_time": "2024-11-06T07:20:46.397Z"
   },
   {
    "duration": 20,
    "start_time": "2024-11-06T07:20:46.684Z"
   },
   {
    "duration": 12,
    "start_time": "2024-11-06T07:20:47.090Z"
   },
   {
    "duration": 14,
    "start_time": "2024-11-06T07:20:48.047Z"
   },
   {
    "duration": 5,
    "start_time": "2024-11-06T07:20:48.407Z"
   },
   {
    "duration": 4,
    "start_time": "2024-11-06T07:20:49.867Z"
   },
   {
    "duration": 4,
    "start_time": "2024-11-06T07:20:50.187Z"
   },
   {
    "duration": 540,
    "start_time": "2024-11-06T07:20:51.701Z"
   },
   {
    "duration": 8,
    "start_time": "2024-11-06T07:20:52.938Z"
   },
   {
    "duration": 4951,
    "start_time": "2024-11-06T07:20:54.394Z"
   },
   {
    "duration": 27,
    "start_time": "2024-11-06T07:21:00.667Z"
   },
   {
    "duration": 23,
    "start_time": "2024-11-06T07:21:02.029Z"
   }
  ],
  "kernelspec": {
   "display_name": "Python 3 (ipykernel)",
   "language": "python",
   "name": "python3"
  },
  "language_info": {
   "codemirror_mode": {
    "name": "ipython",
    "version": 3
   },
   "file_extension": ".py",
   "mimetype": "text/x-python",
   "name": "python",
   "nbconvert_exporter": "python",
   "pygments_lexer": "ipython3",
   "version": "3.9.19"
  },
  "toc": {
   "base_numbering": 1,
   "nav_menu": {},
   "number_sections": true,
   "sideBar": true,
   "skip_h1_title": true,
   "title_cell": "Table of Contents",
   "title_sidebar": "Contents",
   "toc_cell": false,
   "toc_position": {
    "height": "calc(100% - 180px)",
    "left": "10px",
    "top": "150px",
    "width": "181.6px"
   },
   "toc_section_display": true,
   "toc_window_display": false
  }
 },
 "nbformat": 4,
 "nbformat_minor": 2
}
